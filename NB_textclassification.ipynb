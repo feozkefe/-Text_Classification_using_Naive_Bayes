{
 "cells": [
  {
   "cell_type": "markdown",
   "metadata": {},
   "source": [
    "# Text Classification using Naive Bayes"
   ]
  },
  {
   "cell_type": "markdown",
   "metadata": {},
   "source": [
    "FEYZA OZKEFE 20comp5008\n"
   ]
  },
  {
   "cell_type": "markdown",
   "metadata": {},
   "source": [
    "### Import Libraries"
   ]
  },
  {
   "cell_type": "code",
   "execution_count": 106,
   "metadata": {},
   "outputs": [],
   "source": [
    "# Importing Necessary Packages\n",
    "\n",
    "import pandas as pd\n",
    "import numpy as np\n",
    "# import sklearn\n",
    "# import chardet\n",
    "import os\n",
    "import re\n",
    "# from IPython.core.interactiveshell import InteractiveShell\n",
    "# InteractiveShell.ast_node_interactivity = \"all\"\n",
    "from warnings import filterwarnings\n",
    "filterwarnings(\"ignore\")"
   ]
  },
  {
   "cell_type": "code",
   "execution_count": 107,
   "metadata": {},
   "outputs": [],
   "source": [
    "# Reading all 22 sgm files of the data\n",
    "\n",
    "files = [r\"reuters21578/reut2-%03d.sgm\" % r for r in range(0, 22)]"
   ]
  },
  {
   "cell_type": "markdown",
   "metadata": {},
   "source": [
    "### Preprocessing the SGML data"
   ]
  },
  {
   "cell_type": "code",
   "execution_count": 108,
   "metadata": {},
   "outputs": [],
   "source": [
    "# Regex codes to extract actual body from all the sgm files\n",
    "\n",
    "t=re.compile(r'<TEXT[\\S\\s]*?>[\\S\\s]*?</TEXT>') \n",
    "t1=re.compile(r'<TEXT>')\n",
    "t2=re.compile(r'<TEXT TYPE=\"UNPROC\">')\n",
    "t3=re.compile(r'<TEXT TYPE=\"BRIEF\">')\n",
    "p=re.compile(r'&#2;([\\S\\s]*?)&#3')\n",
    "q=re.compile(r'<BODY>([\\S\\s]*?)</BODY>')\n",
    "r=re.compile(r'<TITLE>([\\S\\s]*?)</TITLE>')\n",
    "s=re.compile(r'<TOPICS>([\\s\\S]*?)</TOPICS>')"
   ]
  },
  {
   "cell_type": "code",
   "execution_count": 109,
   "metadata": {},
   "outputs": [
    {
     "data": {
      "text/plain": [
       "21578"
      ]
     },
     "execution_count": 109,
     "metadata": {},
     "output_type": "execute_result"
    }
   ],
   "source": [
    "body=[]  #Storing body parts as defined in the ReadME document of the data\n",
    "for j in range(len(files)):\n",
    "    f=open(files[j])\n",
    "    data=f.read()\n",
    "    n=t.findall(data)\n",
    "    for i in n:\n",
    "        if t1.findall(i)!=[]:\n",
    "            body=body+(q.findall(i))\n",
    "        elif t2.findall(i)!=[]:\n",
    "            body=body+(p.findall(i))\n",
    "        elif t3.findall(i)!=[]:\n",
    "            body=body+(r.findall(i))\n",
    "        \n",
    "len(body)"
   ]
  },
  {
   "cell_type": "code",
   "execution_count": 110,
   "metadata": {},
   "outputs": [
    {
     "data": {
      "text/plain": [
       "21578"
      ]
     },
     "execution_count": 110,
     "metadata": {},
     "output_type": "execute_result"
    }
   ],
   "source": [
    "# Creating Dataframe df consisting columns obtained from lists topics,body,LEWIS\n",
    "\n",
    "topic=[]  #storing all the topic names(None for no topic names)\n",
    "import re\n",
    "u=re.compile(r\"<TOPICS(>[<D>(\\S)</D>]*<)/TOPICS>\")\n",
    "v=re.compile(r\"<D>([\\w-]*)</D>\")\n",
    "for j in range(len(files)):\n",
    "    f=open(files[j])\n",
    "    data=f.read()\n",
    "    m = u.findall(data)\n",
    "    for x in m:\n",
    "        if x=='><':\n",
    "            topic.append([\"None\"])\n",
    "        else:\n",
    "            topic.append(v.findall(x))\n",
    "len(topic)"
   ]
  },
  {
   "cell_type": "code",
   "execution_count": 111,
   "metadata": {},
   "outputs": [
    {
     "data": {
      "text/plain": [
       "21578"
      ]
     },
     "execution_count": 111,
     "metadata": {},
     "output_type": "execute_result"
    }
   ],
   "source": [
    "# Extracting LEWIS Train/test split from the sgm files\n",
    "\n",
    "LEWIS=[]\n",
    "z=re.compile(r'LEWISSPLIT=(\\S+)')\n",
    "for  j in range(len(files)):\n",
    "    f=open(files[j])\n",
    "    data=f.read()\n",
    "    LEWIS+=z.findall(data)\n",
    "len(LEWIS)"
   ]
  },
  {
   "cell_type": "code",
   "execution_count": 112,
   "metadata": {},
   "outputs": [
    {
     "data": {
      "text/html": [
       "<div>\n",
       "<style scoped>\n",
       "    .dataframe tbody tr th:only-of-type {\n",
       "        vertical-align: middle;\n",
       "    }\n",
       "\n",
       "    .dataframe tbody tr th {\n",
       "        vertical-align: top;\n",
       "    }\n",
       "\n",
       "    .dataframe thead th {\n",
       "        text-align: right;\n",
       "    }\n",
       "</style>\n",
       "<table border=\"1\" class=\"dataframe\">\n",
       "  <thead>\n",
       "    <tr style=\"text-align: right;\">\n",
       "      <th></th>\n",
       "      <th>topics</th>\n",
       "      <th>body</th>\n",
       "      <th>LEWIS</th>\n",
       "    </tr>\n",
       "  </thead>\n",
       "  <tbody>\n",
       "    <tr>\n",
       "      <th>0</th>\n",
       "      <td>[cocoa]</td>\n",
       "      <td>Showers continued throughout the week in\\nthe ...</td>\n",
       "      <td>\"TRAIN\"</td>\n",
       "    </tr>\n",
       "    <tr>\n",
       "      <th>1</th>\n",
       "      <td>[None]</td>\n",
       "      <td>Standard Oil Co and BP North America\\nInc said...</td>\n",
       "      <td>\"TRAIN\"</td>\n",
       "    </tr>\n",
       "    <tr>\n",
       "      <th>2</th>\n",
       "      <td>[None]</td>\n",
       "      <td>Texas Commerce Bancshares Inc's Texas\\nCommerc...</td>\n",
       "      <td>\"TRAIN\"</td>\n",
       "    </tr>\n",
       "    <tr>\n",
       "      <th>3</th>\n",
       "      <td>[None]</td>\n",
       "      <td>BankAmerica Corp is not under\\npressure to act...</td>\n",
       "      <td>\"TRAIN\"</td>\n",
       "    </tr>\n",
       "    <tr>\n",
       "      <th>4</th>\n",
       "      <td>[grain, wheat, corn, barley, oat, sorghum]</td>\n",
       "      <td>The U.S. Agriculture Department\\nreported the ...</td>\n",
       "      <td>\"TRAIN\"</td>\n",
       "    </tr>\n",
       "  </tbody>\n",
       "</table>\n",
       "</div>"
      ],
      "text/plain": [
       "                                       topics  \\\n",
       "0                                     [cocoa]   \n",
       "1                                      [None]   \n",
       "2                                      [None]   \n",
       "3                                      [None]   \n",
       "4  [grain, wheat, corn, barley, oat, sorghum]   \n",
       "\n",
       "                                                body    LEWIS  \n",
       "0  Showers continued throughout the week in\\nthe ...  \"TRAIN\"  \n",
       "1  Standard Oil Co and BP North America\\nInc said...  \"TRAIN\"  \n",
       "2  Texas Commerce Bancshares Inc's Texas\\nCommerc...  \"TRAIN\"  \n",
       "3  BankAmerica Corp is not under\\npressure to act...  \"TRAIN\"  \n",
       "4  The U.S. Agriculture Department\\nreported the ...  \"TRAIN\"  "
      ]
     },
     "execution_count": 112,
     "metadata": {},
     "output_type": "execute_result"
    }
   ],
   "source": [
    "# Creating Dataframe df consisting columns obtained from lists topics,body,LEWIS\n",
    "\n",
    "import pandas as pd\n",
    "df=pd.DataFrame(list(zip(topic,body,LEWIS)),\n",
    "              columns=['topics','body','LEWIS'])\n",
    "\n",
    "df.head()"
   ]
  },
  {
   "cell_type": "code",
   "execution_count": 113,
   "metadata": {},
   "outputs": [],
   "source": [
    "# Dropping the rows which have null values in the Topics column of df\n",
    "\n",
    "for i in range(len(df['topics'])):\n",
    "    if df['topics'][i]==['None']:\n",
    "        df['topics'][i]=None\n",
    "df = df.dropna(how='any',axis=0) \n",
    "df.reset_index(drop=True, inplace=True)"
   ]
  },
  {
   "cell_type": "code",
   "execution_count": 114,
   "metadata": {},
   "outputs": [],
   "source": [
    "# Creating a new dataframe named same as the previous dataframe(df)\n",
    "\n",
    "# Here different topics in a list of 'topics' column in the old dataframe are separated in different\n",
    "# rows in the new dataframe and body is repeated for each of them in the same list\n",
    "\n",
    "new_top=[]\n",
    "new_body=[]\n",
    "new_LEWIS=[]\n",
    "for i in range(len(topic)):\n",
    "    for j in topic[i]:\n",
    "        new_top.append(j)\n",
    "        new_body.append(body[i])\n",
    "        new_LEWIS.append(LEWIS[i])"
   ]
  },
  {
   "cell_type": "code",
   "execution_count": 115,
   "metadata": {},
   "outputs": [
    {
     "name": "stdout",
     "output_type": "stream",
     "text": [
      "dataset shape: (24513, 3)\n"
     ]
    },
    {
     "data": {
      "text/html": [
       "<div>\n",
       "<style scoped>\n",
       "    .dataframe tbody tr th:only-of-type {\n",
       "        vertical-align: middle;\n",
       "    }\n",
       "\n",
       "    .dataframe tbody tr th {\n",
       "        vertical-align: top;\n",
       "    }\n",
       "\n",
       "    .dataframe thead th {\n",
       "        text-align: right;\n",
       "    }\n",
       "</style>\n",
       "<table border=\"1\" class=\"dataframe\">\n",
       "  <thead>\n",
       "    <tr style=\"text-align: right;\">\n",
       "      <th></th>\n",
       "      <th>Topics</th>\n",
       "      <th>Body</th>\n",
       "      <th>LEWIS</th>\n",
       "    </tr>\n",
       "  </thead>\n",
       "  <tbody>\n",
       "    <tr>\n",
       "      <th>0</th>\n",
       "      <td>cocoa</td>\n",
       "      <td>Showers continued throughout the week in\\nthe ...</td>\n",
       "      <td>\"TRAIN\"</td>\n",
       "    </tr>\n",
       "    <tr>\n",
       "      <th>1</th>\n",
       "      <td>None</td>\n",
       "      <td>Standard Oil Co and BP North America\\nInc said...</td>\n",
       "      <td>\"TRAIN\"</td>\n",
       "    </tr>\n",
       "    <tr>\n",
       "      <th>2</th>\n",
       "      <td>None</td>\n",
       "      <td>Texas Commerce Bancshares Inc's Texas\\nCommerc...</td>\n",
       "      <td>\"TRAIN\"</td>\n",
       "    </tr>\n",
       "    <tr>\n",
       "      <th>3</th>\n",
       "      <td>None</td>\n",
       "      <td>BankAmerica Corp is not under\\npressure to act...</td>\n",
       "      <td>\"TRAIN\"</td>\n",
       "    </tr>\n",
       "    <tr>\n",
       "      <th>4</th>\n",
       "      <td>grain</td>\n",
       "      <td>The U.S. Agriculture Department\\nreported the ...</td>\n",
       "      <td>\"TRAIN\"</td>\n",
       "    </tr>\n",
       "  </tbody>\n",
       "</table>\n",
       "</div>"
      ],
      "text/plain": [
       "  Topics                                               Body    LEWIS\n",
       "0  cocoa  Showers continued throughout the week in\\nthe ...  \"TRAIN\"\n",
       "1   None  Standard Oil Co and BP North America\\nInc said...  \"TRAIN\"\n",
       "2   None  Texas Commerce Bancshares Inc's Texas\\nCommerc...  \"TRAIN\"\n",
       "3   None  BankAmerica Corp is not under\\npressure to act...  \"TRAIN\"\n",
       "4  grain  The U.S. Agriculture Department\\nreported the ...  \"TRAIN\""
      ]
     },
     "execution_count": 115,
     "metadata": {},
     "output_type": "execute_result"
    }
   ],
   "source": [
    "df=pd.DataFrame(list(zip(new_top,new_body,new_LEWIS)),\n",
    "              columns=['Topics','Body','LEWIS'])\n",
    "\n",
    "print(\"dataset shape:\",df.shape)\n",
    "df.head()"
   ]
  },
  {
   "cell_type": "code",
   "execution_count": 116,
   "metadata": {},
   "outputs": [
    {
     "name": "stdout",
     "output_type": "stream",
     "text": [
      "dataset shape: (14302, 3)\n"
     ]
    }
   ],
   "source": [
    "# Dropping the rows which have null values in the Topics column of df\n",
    "\n",
    "for i in range(len(df['Topics'])):\n",
    "    if df['Topics'][i]=='None':\n",
    "        df['Topics'][i]=None\n",
    "df= df.dropna(how='any',axis=0) \n",
    "df.reset_index(drop=True, inplace=True)\n",
    "print(\"dataset shape:\",df.shape)"
   ]
  },
  {
   "cell_type": "code",
   "execution_count": 117,
   "metadata": {},
   "outputs": [],
   "source": [
    "# BURAYA KADAR SADECE CGI COLUMN'U CIKARDIM "
   ]
  },
  {
   "cell_type": "code",
   "execution_count": 118,
   "metadata": {},
   "outputs": [
    {
     "name": "stdout",
     "output_type": "stream",
     "text": [
      "dataset shape: (8498, 3)\n"
     ]
    },
    {
     "data": {
      "text/html": [
       "<div>\n",
       "<style scoped>\n",
       "    .dataframe tbody tr th:only-of-type {\n",
       "        vertical-align: middle;\n",
       "    }\n",
       "\n",
       "    .dataframe tbody tr th {\n",
       "        vertical-align: top;\n",
       "    }\n",
       "\n",
       "    .dataframe thead th {\n",
       "        text-align: right;\n",
       "    }\n",
       "</style>\n",
       "<table border=\"1\" class=\"dataframe\">\n",
       "  <thead>\n",
       "    <tr style=\"text-align: right;\">\n",
       "      <th></th>\n",
       "      <th>Topics</th>\n",
       "      <th>Body</th>\n",
       "      <th>LEWIS</th>\n",
       "    </tr>\n",
       "  </thead>\n",
       "  <tbody>\n",
       "    <tr>\n",
       "      <th>1</th>\n",
       "      <td>grain</td>\n",
       "      <td>The U.S. Agriculture Department\\nreported the ...</td>\n",
       "      <td>\"TRAIN\"</td>\n",
       "    </tr>\n",
       "    <tr>\n",
       "      <th>16</th>\n",
       "      <td>grain</td>\n",
       "      <td>Argentine grain board figures show\\ncrop regis...</td>\n",
       "      <td>\"TRAIN\"</td>\n",
       "    </tr>\n",
       "    <tr>\n",
       "      <th>19</th>\n",
       "      <td>earn</td>\n",
       "      <td>Champion Products Inc said its\\nboard of direc...</td>\n",
       "      <td>\"TRAIN\"</td>\n",
       "    </tr>\n",
       "    <tr>\n",
       "      <th>20</th>\n",
       "      <td>acq</td>\n",
       "      <td>Computer Terminal Systems Inc said\\nit has com...</td>\n",
       "      <td>\"TRAIN\"</td>\n",
       "    </tr>\n",
       "    <tr>\n",
       "      <th>21</th>\n",
       "      <td>earn</td>\n",
       "      <td>Shr 34 cts vs 1.19 dlrs\\n    Net 807,000 vs 2,...</td>\n",
       "      <td>\"TRAIN\"</td>\n",
       "    </tr>\n",
       "  </tbody>\n",
       "</table>\n",
       "</div>"
      ],
      "text/plain": [
       "   Topics                                               Body    LEWIS\n",
       "1   grain  The U.S. Agriculture Department\\nreported the ...  \"TRAIN\"\n",
       "16  grain  Argentine grain board figures show\\ncrop regis...  \"TRAIN\"\n",
       "19   earn  Champion Products Inc said its\\nboard of direc...  \"TRAIN\"\n",
       "20    acq  Computer Terminal Systems Inc said\\nit has com...  \"TRAIN\"\n",
       "21   earn  Shr 34 cts vs 1.19 dlrs\\n    Net 807,000 vs 2,...  \"TRAIN\""
      ]
     },
     "execution_count": 118,
     "metadata": {},
     "output_type": "execute_result"
    }
   ],
   "source": [
    "# Select the five topics and save it as a new dataframe\n",
    "\n",
    "df2 = df[df['Topics'].isin(['grain','money-fx','earn','acq','crude'])]\n",
    "print(\"dataset shape:\",df2.shape)\n",
    "df2.head()"
   ]
  },
  {
   "cell_type": "code",
   "execution_count": 120,
   "metadata": {},
   "outputs": [
    {
     "name": "stdout",
     "output_type": "stream",
     "text": [
      "dataset shape: (8355, 3)\n",
      "LEWIS includes: ['\"TRAIN\"' '\"NOT-USED\"' '\"TEST\"']\n"
     ]
    },
    {
     "data": {
      "text/html": [
       "<div>\n",
       "<style scoped>\n",
       "    .dataframe tbody tr th:only-of-type {\n",
       "        vertical-align: middle;\n",
       "    }\n",
       "\n",
       "    .dataframe tbody tr th {\n",
       "        vertical-align: top;\n",
       "    }\n",
       "\n",
       "    .dataframe thead th {\n",
       "        text-align: right;\n",
       "    }\n",
       "</style>\n",
       "<table border=\"1\" class=\"dataframe\">\n",
       "  <thead>\n",
       "    <tr style=\"text-align: right;\">\n",
       "      <th></th>\n",
       "      <th>Topics</th>\n",
       "      <th>Body</th>\n",
       "      <th>LEWIS</th>\n",
       "    </tr>\n",
       "  </thead>\n",
       "  <tbody>\n",
       "    <tr>\n",
       "      <th>1</th>\n",
       "      <td>grain</td>\n",
       "      <td>The U.S. Agriculture Department\\nreported the ...</td>\n",
       "      <td>\"TRAIN\"</td>\n",
       "    </tr>\n",
       "    <tr>\n",
       "      <th>16</th>\n",
       "      <td>grain</td>\n",
       "      <td>Argentine grain board figures show\\ncrop regis...</td>\n",
       "      <td>\"TRAIN\"</td>\n",
       "    </tr>\n",
       "    <tr>\n",
       "      <th>19</th>\n",
       "      <td>earn</td>\n",
       "      <td>Champion Products Inc said its\\nboard of direc...</td>\n",
       "      <td>\"TRAIN\"</td>\n",
       "    </tr>\n",
       "    <tr>\n",
       "      <th>20</th>\n",
       "      <td>acq</td>\n",
       "      <td>Computer Terminal Systems Inc said\\nit has com...</td>\n",
       "      <td>\"TRAIN\"</td>\n",
       "    </tr>\n",
       "    <tr>\n",
       "      <th>21</th>\n",
       "      <td>earn</td>\n",
       "      <td>Shr 34 cts vs 1.19 dlrs\\n    Net 807,000 vs 2,...</td>\n",
       "      <td>\"TRAIN\"</td>\n",
       "    </tr>\n",
       "  </tbody>\n",
       "</table>\n",
       "</div>"
      ],
      "text/plain": [
       "   Topics                                               Body    LEWIS\n",
       "1   grain  The U.S. Agriculture Department\\nreported the ...  \"TRAIN\"\n",
       "16  grain  Argentine grain board figures show\\ncrop regis...  \"TRAIN\"\n",
       "19   earn  Champion Products Inc said its\\nboard of direc...  \"TRAIN\"\n",
       "20    acq  Computer Terminal Systems Inc said\\nit has com...  \"TRAIN\"\n",
       "21   earn  Shr 34 cts vs 1.19 dlrs\\n    Net 807,000 vs 2,...  \"TRAIN\""
      ]
     },
     "execution_count": 120,
     "metadata": {},
     "output_type": "execute_result"
    }
   ],
   "source": [
    "# Drop the duplicates (we don't want a body that includes 2 topic in these 5)\n",
    "\n",
    "df_new = df2.drop_duplicates(subset = \"Body\") \n",
    "print(\"dataset shape:\",df_new.shape)\n",
    "print(\"LEWIS includes:\",df_new['LEWIS'].unique())\n",
    "df_new.head()"
   ]
  },
  {
   "cell_type": "code",
   "execution_count": 143,
   "metadata": {},
   "outputs": [
    {
     "data": {
      "image/png": "[encoded data removed]",
      "text/plain": [
       "<Figure size 576x432 with 1 Axes>"
      ]
     },
     "metadata": {
      "needs_background": "light"
     },
     "output_type": "display_data"
    }
   ],
   "source": [
    "# Quick look at the topic numbers\n",
    "\n",
    "import matplotlib.pyplot as plt\n",
    "fig = plt.figure(figsize=(8,6))\n",
    "df_new.groupby('Topics').Topics.count().plot.bar(ylim=0)\n",
    "plt.show()"
   ]
  },
  {
   "cell_type": "markdown",
   "metadata": {},
   "source": [
    "### Importing more libraries "
   ]
  },
  {
   "cell_type": "code",
   "execution_count": 129,
   "metadata": {},
   "outputs": [],
   "source": [
    "from sklearn.pipeline import Pipeline\n",
    "from sklearn.feature_extraction.text import TfidfVectorizer\n",
    "from sklearn.metrics import precision_recall_fscore_support, accuracy_score\n",
    "from sklearn.metrics import precision_recall_curve\n",
    "from sklearn.metrics import confusion_matrix\n",
    "from sklearn.metrics import classification_report"
   ]
  },
  {
   "cell_type": "markdown",
   "metadata": {},
   "source": [
    "### Label Encoding of Topics"
   ]
  },
  {
   "cell_type": "code",
   "execution_count": 145,
   "metadata": {},
   "outputs": [],
   "source": [
    "from sklearn.preprocessing import LabelEncoder\n",
    "\n",
    "#creating labelEncoder\n",
    "encoder = LabelEncoder()\n",
    "# Converting string labels into numbers.\n",
    "df_new[\"Topic_code\"] = encoder.fit_transform(df_new[\"Topics\"])"
   ]
  },
  {
   "cell_type": "markdown",
   "metadata": {},
   "source": [
    "### Classification using Multinomial Naive Bayes Model"
   ]
  },
  {
   "cell_type": "markdown",
   "metadata": {},
   "source": [
    "With using the library "
   ]
  },
  {
   "cell_type": "markdown",
   "metadata": {},
   "source": [
    "### Text Representation"
   ]
  },
  {
   "cell_type": "code",
   "execution_count": 147,
   "metadata": {},
   "outputs": [
    {
     "data": {
      "text/plain": [
       "(8355, 20040)"
      ]
     },
     "execution_count": 147,
     "metadata": {},
     "output_type": "execute_result"
    }
   ],
   "source": [
    "from sklearn.feature_extraction.text import TfidfVectorizer\n",
    "\n",
    "tfidf = TfidfVectorizer(sublinear_tf=True, min_df=5, norm='l2', encoding='latin-1', ngram_range=(1, 2), stop_words='english')\n",
    "features = tfidf.fit_transform(df_new.Body).toarray()\n",
    "labels = df_new.Topic_code\n",
    "features.shape"
   ]
  },
  {
   "cell_type": "markdown",
   "metadata": {},
   "source": [
    "### Train-test split for Body and Topic-code of the dataframe"
   ]
  },
  {
   "cell_type": "code",
   "execution_count": 148,
   "metadata": {},
   "outputs": [
    {
     "name": "stdout",
     "output_type": "stream",
     "text": [
      "train dataset shape: (5783, 4)\n",
      "test dataset shape: (2302, 4)\n"
     ]
    }
   ],
   "source": [
    "# Split the Dataset as train and test set\n",
    "\n",
    "df_train =df_new[df_new[\"LEWIS\"] == '\"TRAIN\"']\n",
    "print(\"train dataset shape:\",df_train.shape)\n",
    "\n",
    "df_test = df_new[df_new[\"LEWIS\"] == '\"TEST\"']\n",
    "print(\"test dataset shape:\",df_test.shape)"
   ]
  },
  {
   "cell_type": "code",
   "execution_count": 149,
   "metadata": {},
   "outputs": [
    {
     "data": {
      "text/html": [
       "<div>\n",
       "<style scoped>\n",
       "    .dataframe tbody tr th:only-of-type {\n",
       "        vertical-align: middle;\n",
       "    }\n",
       "\n",
       "    .dataframe tbody tr th {\n",
       "        vertical-align: top;\n",
       "    }\n",
       "\n",
       "    .dataframe thead th {\n",
       "        text-align: right;\n",
       "    }\n",
       "</style>\n",
       "<table border=\"1\" class=\"dataframe\">\n",
       "  <thead>\n",
       "    <tr style=\"text-align: right;\">\n",
       "      <th></th>\n",
       "      <th>Topics</th>\n",
       "      <th>Body</th>\n",
       "      <th>LEWIS</th>\n",
       "      <th>Topic_code</th>\n",
       "    </tr>\n",
       "  </thead>\n",
       "  <tbody>\n",
       "    <tr>\n",
       "      <th>1</th>\n",
       "      <td>grain</td>\n",
       "      <td>The U.S. Agriculture Department\\nreported the ...</td>\n",
       "      <td>\"TRAIN\"</td>\n",
       "      <td>3</td>\n",
       "    </tr>\n",
       "    <tr>\n",
       "      <th>16</th>\n",
       "      <td>grain</td>\n",
       "      <td>Argentine grain board figures show\\ncrop regis...</td>\n",
       "      <td>\"TRAIN\"</td>\n",
       "      <td>3</td>\n",
       "    </tr>\n",
       "    <tr>\n",
       "      <th>19</th>\n",
       "      <td>earn</td>\n",
       "      <td>Champion Products Inc said its\\nboard of direc...</td>\n",
       "      <td>\"TRAIN\"</td>\n",
       "      <td>2</td>\n",
       "    </tr>\n",
       "    <tr>\n",
       "      <th>20</th>\n",
       "      <td>acq</td>\n",
       "      <td>Computer Terminal Systems Inc said\\nit has com...</td>\n",
       "      <td>\"TRAIN\"</td>\n",
       "      <td>0</td>\n",
       "    </tr>\n",
       "    <tr>\n",
       "      <th>21</th>\n",
       "      <td>earn</td>\n",
       "      <td>Shr 34 cts vs 1.19 dlrs\\n    Net 807,000 vs 2,...</td>\n",
       "      <td>\"TRAIN\"</td>\n",
       "      <td>2</td>\n",
       "    </tr>\n",
       "  </tbody>\n",
       "</table>\n",
       "</div>"
      ],
      "text/plain": [
       "   Topics                                               Body    LEWIS  \\\n",
       "1   grain  The U.S. Agriculture Department\\nreported the ...  \"TRAIN\"   \n",
       "16  grain  Argentine grain board figures show\\ncrop regis...  \"TRAIN\"   \n",
       "19   earn  Champion Products Inc said its\\nboard of direc...  \"TRAIN\"   \n",
       "20    acq  Computer Terminal Systems Inc said\\nit has com...  \"TRAIN\"   \n",
       "21   earn  Shr 34 cts vs 1.19 dlrs\\n    Net 807,000 vs 2,...  \"TRAIN\"   \n",
       "\n",
       "    Topic_code  \n",
       "1            3  \n",
       "16           3  \n",
       "19           2  \n",
       "20           0  \n",
       "21           2  "
      ]
     },
     "execution_count": 149,
     "metadata": {},
     "output_type": "execute_result"
    }
   ],
   "source": [
    "df_train.head()"
   ]
  },
  {
   "cell_type": "code",
   "execution_count": 150,
   "metadata": {},
   "outputs": [
    {
     "data": {
      "text/html": [
       "<div>\n",
       "<style scoped>\n",
       "    .dataframe tbody tr th:only-of-type {\n",
       "        vertical-align: middle;\n",
       "    }\n",
       "\n",
       "    .dataframe tbody tr th {\n",
       "        vertical-align: top;\n",
       "    }\n",
       "\n",
       "    .dataframe thead th {\n",
       "        text-align: right;\n",
       "    }\n",
       "</style>\n",
       "<table border=\"1\" class=\"dataframe\">\n",
       "  <thead>\n",
       "    <tr style=\"text-align: right;\">\n",
       "      <th></th>\n",
       "      <th>Topics</th>\n",
       "      <th>Body</th>\n",
       "      <th>LEWIS</th>\n",
       "      <th>Topic_code</th>\n",
       "    </tr>\n",
       "  </thead>\n",
       "  <tbody>\n",
       "    <tr>\n",
       "      <th>9822</th>\n",
       "      <td>grain</td>\n",
       "      <td>A survey of 19 provinces and seven cities\\nsho...</td>\n",
       "      <td>\"TEST\"</td>\n",
       "      <td>3</td>\n",
       "    </tr>\n",
       "    <tr>\n",
       "      <th>9823</th>\n",
       "      <td>crude</td>\n",
       "      <td>The Ministry of International Trade and\\nIndus...</td>\n",
       "      <td>\"TEST\"</td>\n",
       "      <td>1</td>\n",
       "    </tr>\n",
       "    <tr>\n",
       "      <th>9826</th>\n",
       "      <td>grain</td>\n",
       "      <td>Thailand's trade deficit widened to 4.5\\nbilli...</td>\n",
       "      <td>\"TEST\"</td>\n",
       "      <td>3</td>\n",
       "    </tr>\n",
       "    <tr>\n",
       "      <th>9840</th>\n",
       "      <td>grain</td>\n",
       "      <td>Food Department officials said the U.S.\\nDepar...</td>\n",
       "      <td>\"TEST\"</td>\n",
       "      <td>3</td>\n",
       "    </tr>\n",
       "    <tr>\n",
       "      <th>9843</th>\n",
       "      <td>acq</td>\n",
       "      <td>Sumitomo Bank Ltd &amp;lt;SUMI.T&gt; is certain to\\nl...</td>\n",
       "      <td>\"TEST\"</td>\n",
       "      <td>0</td>\n",
       "    </tr>\n",
       "  </tbody>\n",
       "</table>\n",
       "</div>"
      ],
      "text/plain": [
       "     Topics                                               Body   LEWIS  \\\n",
       "9822  grain  A survey of 19 provinces and seven cities\\nsho...  \"TEST\"   \n",
       "9823  crude  The Ministry of International Trade and\\nIndus...  \"TEST\"   \n",
       "9826  grain  Thailand's trade deficit widened to 4.5\\nbilli...  \"TEST\"   \n",
       "9840  grain  Food Department officials said the U.S.\\nDepar...  \"TEST\"   \n",
       "9843    acq  Sumitomo Bank Ltd &lt;SUMI.T> is certain to\\nl...  \"TEST\"   \n",
       "\n",
       "      Topic_code  \n",
       "9822           3  \n",
       "9823           1  \n",
       "9826           3  \n",
       "9840           3  \n",
       "9843           0  "
      ]
     },
     "execution_count": 150,
     "metadata": {},
     "output_type": "execute_result"
    }
   ],
   "source": [
    "df_test.head()"
   ]
  },
  {
   "cell_type": "code",
   "execution_count": 151,
   "metadata": {},
   "outputs": [
    {
     "name": "stdout",
     "output_type": "stream",
     "text": [
      "Shape of X_train is (5783,) and shape of y_train is (5783,)\n",
      "Shape of X_test is (2302,) and shape of y_test is (2302,)\n"
     ]
    }
   ],
   "source": [
    "X_train = df_train['Body']\n",
    "y_train = df_train['Topic_code']\n",
    "\n",
    "X_test = df_test['Body']\n",
    "y_test = df_test['Topic_code']\n",
    "\n",
    "print(\"Shape of X_train is {} and shape of y_train is {}\".format(X_train.shape, y_train.shape))\n",
    "print(\"Shape of X_test is {} and shape of y_test is {}\".format(X_test.shape, y_test.shape))"
   ]
  },
  {
   "cell_type": "code",
   "execution_count": 203,
   "metadata": {},
   "outputs": [],
   "source": [
    "# Fitting the model with MultinomialNB\n",
    "\n",
    "from sklearn.feature_extraction.text import CountVectorizer\n",
    "from sklearn.feature_extraction.text import TfidfTransformer\n",
    "from sklearn.naive_bayes import MultinomialNB\n",
    "\n",
    "count_vect = CountVectorizer()\n",
    "X_train_counts = count_vect.fit_transform(X_train)\n",
    "tfidf_transformer = TfidfTransformer()\n",
    "X_train_tfidf = tfidf_transformer.fit_transform(X_train_counts)\n",
    "nb_model = MultinomialNB().fit(X_train_tfidf, y_train)"
   ]
  },
  {
   "cell_type": "code",
   "execution_count": 217,
   "metadata": {},
   "outputs": [],
   "source": [
    "df_new['topic-tuple'] = df_new[['Topic_code', 'Topics']].apply(tuple, axis=1)\n",
    "topic = df_new['topic-tuple'].unique()"
   ]
  },
  {
   "cell_type": "code",
   "execution_count": 218,
   "metadata": {},
   "outputs": [
    {
     "name": "stdout",
     "output_type": "stream",
     "text": [
      "this text belongs to category: [(4, 'money-fx')]\n"
     ]
    }
   ],
   "source": [
    "prediction = nb_model.predict(count_vect.transform([\"Responsibility for the appreciation of the Taiwan dollar \\\n",
    "and the South Korean Won lies soley with those countries, said U.S. trade representative Clayton \\\n",
    "Yeutter Speaking to the Asia Society, Yeutter said that it is in those countries' own long-term interest\\\n",
    "to raise the value of their currencies against the dollar.\"]))\n",
    "\n",
    "print(\"this text belongs to category:\",topic[prediction])"
   ]
  },
  {
   "cell_type": "code",
   "execution_count": 205,
   "metadata": {},
   "outputs": [
    {
     "name": "stdout",
     "output_type": "stream",
     "text": [
      "accuracy: 0.9609035621198957\n",
      "              precision    recall  f1-score   support\n",
      "\n",
      "       grain       0.92      0.98      0.95       717\n",
      "        earn       1.00      0.83      0.90       183\n",
      "         acq       0.98      0.98      0.98      1081\n",
      "       crude       0.99      0.91      0.95       147\n",
      "    money-fx       0.98      0.97      0.97       174\n",
      "\n",
      "    accuracy                           0.96      2302\n",
      "   macro avg       0.97      0.93      0.95      2302\n",
      "weighted avg       0.96      0.96      0.96      2302\n",
      "\n"
     ]
    }
   ],
   "source": [
    "from sklearn import metrics\n",
    "\n",
    "model= MultinomialNB()\n",
    "pipeline_Mnv = Pipeline([('vectorizer', TfidfVectorizer(sublinear_tf=True, min_df=5, \n",
    "                                                        norm='l2', encoding='latin-1', \n",
    "                                                        ngram_range=(1, 2), stop_words='english')),\n",
    "                         ('classifier', model)])\n",
    "\n",
    "pipeline_Mnv.fit(X_train, y_train)\n",
    "y_pred = pipeline_Mnv.predict(X_test)\n",
    "accuracy_Mnv = accuracy_score(y_test, y_pred)\n",
    "print(\"accuracy:\",accuracy_Mnv)\n",
    "print(metrics.classification_report(y_test, y_pred, target_names=df_new['Topics'].unique()))"
   ]
  }
 ],
 "metadata": {
  "kernelspec": {
   "display_name": "Python 3",
   "language": "python",
   "name": "python3"
  },
  "language_info": {
   "codemirror_mode": {
    "name": "ipython",
    "version": 3
   },
   "file_extension": ".py",
   "mimetype": "text/x-python",
   "name": "python",
   "nbconvert_exporter": "python",
   "pygments_lexer": "ipython3",
   "version": "3.8.5"
  }
 },
 "nbformat": 4,
 "nbformat_minor": 4
}
